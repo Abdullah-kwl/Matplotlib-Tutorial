{
 "cells": [
  {
   "cell_type": "code",
   "execution_count": 1,
   "id": "943c9e07",
   "metadata": {},
   "outputs": [
    {
     "data": {
      "text/plain": [
       "(array([3., 3., 1., 0., 1., 1., 0., 2., 0., 2.]),\n",
       " array([ 77. ,  84.3,  91.6,  98.9, 106.2, 113.5, 120.8, 128.1, 135.4,\n",
       "        142.7, 150. ]),\n",
       " <BarContainer object of 10 artists>)"
      ]
     },
     "execution_count": 1,
     "metadata": {},
     "output_type": "execute_result"
    },
    {
     "data": {
      "image/png": "[encoded data removed]",
      "text/plain": [
       "<Figure size 432x288 with 1 Axes>"
      ]
     },
     "metadata": {
      "needs_background": "light"
     },
     "output_type": "display_data"
    }
   ],
   "source": [
    "import matplotlib.pyplot as plt\n",
    "\n",
    "blood_sugar = [113, 85, 90, 150, 149, 88, 93, 115, 135, 80, 77, 82, 129]\n",
    "plt.hist(blood_sugar )\n",
    "# <BarContainer object of 10 artists>  by default\n",
    "# by default number of bins is 10"
   ]
  },
  {
   "cell_type": "code",
   "execution_count": 2,
   "id": "aa84b5b3",
   "metadata": {},
   "outputs": [
    {
     "data": {
      "text/plain": [
       "(array([3., 3., 1., 0., 1., 1., 0., 2., 0., 2.]),\n",
       " array([ 77. ,  84.3,  91.6,  98.9, 106.2, 113.5, 120.8, 128.1, 135.4,\n",
       "        142.7, 150. ]),\n",
       " <BarContainer object of 10 artists>)"
      ]
     },
     "execution_count": 2,
     "metadata": {},
     "output_type": "execute_result"
    },
    {
     "data": {
      "image/png": "[encoded data removed]",
      "text/plain": [
       "<Figure size 432x288 with 1 Axes>"
      ]
     },
     "metadata": {
      "needs_background": "light"
     },
     "output_type": "display_data"
    }
   ],
   "source": [
    "blood_sugar = [113, 85, 90, 150, 149, 88, 93, 115, 135, 80, 77, 82, 129]\n",
    "plt.hist(blood_sugar , rwidth=0.95)"
   ]
  },
  {
   "cell_type": "code",
   "execution_count": 3,
   "id": "e55d144d",
   "metadata": {},
   "outputs": [
    {
     "data": {
      "text/plain": [
       "(array([7., 2., 4.]),\n",
       " array([ 77.        , 101.33333333, 125.66666667, 150.        ]),\n",
       " <BarContainer object of 3 artists>)"
      ]
     },
     "execution_count": 3,
     "metadata": {},
     "output_type": "execute_result"
    },
    {
     "data": {
      "image/png": "[encoded data removed]",
      "text/plain": [
       "<Figure size 432x288 with 1 Axes>"
      ]
     },
     "metadata": {
      "needs_background": "light"
     },
     "output_type": "display_data"
    }
   ],
   "source": [
    "blood_sugar = [113, 85, 90, 150, 149, 88, 93, 115, 135, 80, 77, 82, 129]\n",
    "plt.hist(blood_sugar , rwidth=0.95 , bins=3)"
   ]
  },
  {
   "cell_type": "markdown",
   "id": "3d1e9c9a",
   "metadata": {},
   "source": [
    "we can gave the range using bins"
   ]
  },
  {
   "cell_type": "code",
   "execution_count": 4,
   "id": "aa00db72",
   "metadata": {},
   "outputs": [
    {
     "data": {
      "text/plain": [
       "(array([6., 2., 3., 1.]),\n",
       " array([ 80, 100, 125, 150, 180]),\n",
       " <BarContainer object of 4 artists>)"
      ]
     },
     "execution_count": 4,
     "metadata": {},
     "output_type": "execute_result"
    },
    {
     "data": {
      "image/png": "[encoded data removed]",
      "text/plain": [
       "<Figure size 432x288 with 1 Axes>"
      ]
     },
     "metadata": {
      "needs_background": "light"
     },
     "output_type": "display_data"
    }
   ],
   "source": [
    "blood_sugar = [113, 85, 90, 150, 149, 88, 93, 115, 135, 80, 77, 82, 129]\n",
    "plt.hist(blood_sugar , rwidth=0.85 , bins=[80,100,125,150,180])"
   ]
  },
  {
   "cell_type": "code",
   "execution_count": 5,
   "id": "a739ac88",
   "metadata": {},
   "outputs": [
    {
     "data": {
      "text/plain": [
       "(array([6., 2., 3., 1.]),\n",
       " array([ 80, 100, 125, 150, 180]),\n",
       " <BarContainer object of 4 artists>)"
      ]
     },
     "execution_count": 5,
     "metadata": {},
     "output_type": "execute_result"
    },
    {
     "data": {
      "image/png": "[encoded data removed]",
      "text/plain": [
       "<Figure size 432x288 with 1 Axes>"
      ]
     },
     "metadata": {
      "needs_background": "light"
     },
     "output_type": "display_data"
    }
   ],
   "source": [
    "blood_sugar = [113, 85, 90, 150, 149, 88, 93, 115, 135, 80, 77, 82, 129]\n",
    "plt.hist(blood_sugar , rwidth=0.85 , bins=[80,100,125,150,180] , color=\"#BE8C63\")"
   ]
  },
  {
   "cell_type": "code",
   "execution_count": 6,
   "id": "2cd47de9",
   "metadata": {},
   "outputs": [
    {
     "data": {
      "text/plain": [
       "(array([6., 2., 3., 1.]),\n",
       " array([ 80, 100, 125, 150, 180]),\n",
       " [<matplotlib.patches.Polygon at 0x1606c61a6d0>])"
      ]
     },
     "execution_count": 6,
     "metadata": {},
     "output_type": "execute_result"
    },
    {
     "data": {
      "image/png": "[encoded data removed]",
      "text/plain": [
       "<Figure size 432x288 with 1 Axes>"
      ]
     },
     "metadata": {
      "needs_background": "light"
     },
     "output_type": "display_data"
    }
   ],
   "source": [
    "plt.hist(blood_sugar , rwidth=0.85 , bins=[80,100,125,150,180] , color=\"#BE8C63\" , histtype=\"step\")"
   ]
  },
  {
   "cell_type": "code",
   "execution_count": 7,
   "id": "5db4600e",
   "metadata": {},
   "outputs": [
    {
     "data": {
      "text/plain": [
       "(array([6., 2., 3., 1.]),\n",
       " array([ 80, 100, 125, 150, 180]),\n",
       " [<matplotlib.patches.Polygon at 0x1606c67c790>])"
      ]
     },
     "execution_count": 7,
     "metadata": {},
     "output_type": "execute_result"
    },
    {
     "data": {
      "image/png": "[encoded data removed]",
      "text/plain": [
       "<Figure size 432x288 with 1 Axes>"
      ]
     },
     "metadata": {
      "needs_background": "light"
     },
     "output_type": "display_data"
    }
   ],
   "source": [
    "plt.hist(blood_sugar , rwidth=0.85 , bins=[80,100,125,150,180] , color=\"#BE8C63\" , histtype=\"stepfilled\")"
   ]
  },
  {
   "cell_type": "markdown",
   "id": "7f0f5ad7",
   "metadata": {},
   "source": [
    "Using more data in this graph"
   ]
  },
  {
   "cell_type": "markdown",
   "id": "bfbbcbfa",
   "metadata": {},
   "source": [
    "80-100: Normal |\n",
    "100-125: Pre-diabetic |\n",
    "125-150: Diabetic"
   ]
  },
  {
   "cell_type": "code",
   "execution_count": 8,
   "id": "a3e15fdb",
   "metadata": {},
   "outputs": [
    {
     "data": {
      "text/plain": [
       "<matplotlib.legend.Legend at 0x1606c6401c0>"
      ]
     },
     "execution_count": 8,
     "metadata": {},
     "output_type": "execute_result"
    },
    {
     "data": {
      "image/png": "[encoded data removed]",
      "text/plain": [
       "<Figure size 432x288 with 1 Axes>"
      ]
     },
     "metadata": {
      "needs_background": "light"
     },
     "output_type": "display_data"
    }
   ],
   "source": [
    "blood_sugar_men = [113, 85, 90, 150, 149, 88, 93, 115, 135, 80, 77, 82, 129]\n",
    "blood_sugar_women = [67, 98, 89, 120, 133, 150, 84, 69, 89, 79, 120, 112, 100]\n",
    "\n",
    "plt.hist([blood_sugar_men,blood_sugar_women] , rwidth=0.85, bins=[80,100,125,150] , label=[\"Men\",\"Women\"] ,\n",
    "         color=['#65C18C','#FFBED8'])\n",
    "\n",
    "plt.xlabel('Suger range', color='#009167', fontsize=15)\n",
    "plt.ylabel('Total no of patients', color='#FF7BA9', fontsize=15)\n",
    "plt.legend(fontsize=13 ,shadow=True)"
   ]
  },
  {
   "cell_type": "markdown",
   "id": "f7236683",
   "metadata": {},
   "source": [
    "Orientation=Horizental"
   ]
  },
  {
   "cell_type": "code",
   "execution_count": 9,
   "id": "8be6ddaa",
   "metadata": {},
   "outputs": [
    {
     "data": {
      "text/plain": [
       "<matplotlib.legend.Legend at 0x1606c384be0>"
      ]
     },
     "execution_count": 9,
     "metadata": {},
     "output_type": "execute_result"
    },
    {
     "data": {
      "image/png": "[encoded data removed]",
      "text/plain": [
       "<Figure size 432x288 with 1 Axes>"
      ]
     },
     "metadata": {
      "needs_background": "light"
     },
     "output_type": "display_data"
    }
   ],
   "source": [
    "blood_sugar_men = [113, 85, 90, 150, 149, 88, 93, 115, 135, 80, 77, 82, 129]\n",
    "blood_sugar_women = [67, 98, 89, 120, 133, 150, 84, 69, 89, 79, 120, 112, 100]\n",
    "\n",
    "plt.hist([blood_sugar_men,blood_sugar_women] , rwidth=0.85, bins=[80,100,125,150] , label=[\"Men\",\"Women\"] ,\n",
    "         color=['#65C18C','#FFBED8'] ,orientation='horizontal')\n",
    "\n",
    "# for horizontal ploting jus use\n",
    "# orientation='horizontal'\n",
    "\n",
    "plt.xlabel('Suger range', color='#009167', fontsize=15)\n",
    "plt.ylabel('Total no of patients', color='#FF7BA9', fontsize=15)\n",
    "plt.legend(fontsize=13 ,shadow=True)"
   ]
  }
 ],
 "metadata": {
  "kernelspec": {
   "display_name": "Python 3",
   "language": "python",
   "name": "python3"
  },
  "language_info": {
   "codemirror_mode": {
    "name": "ipython",
    "version": 3
   },
   "file_extension": ".py",
   "mimetype": "text/x-python",
   "name": "python",
   "nbconvert_exporter": "python",
   "pygments_lexer": "ipython3",
   "version": "3.9.2"
  }
 },
 "nbformat": 4,
 "nbformat_minor": 5
}
