{
 "cells": [
  {
   "cell_type": "code",
   "execution_count": 1,
   "id": "b96e9822",
   "metadata": {},
   "outputs": [
    {
     "name": "stdout",
     "output_type": "stream",
     "text": [
      "[32 24 34 24 22 35 19 35 33 30 38 32 29 35 27 28 44 25 44 40 18 35 39 33\n",
      " 24 21 35 23 36 38 28 35 24 40 37 24 26 33 19 29 20 28 35 23 18 36 22 43\n",
      " 24 26 28 39 42 20 19 39 20 31 40 38 38 35 21 31 26 29 23 43 44 43 41 44\n",
      " 38 33 38 40 31 23 24 28 44 32 30 40 34 32 24 18 22 37 34 39 28 41 26 37\n",
      " 24 27 26 25]\n",
      "[31 27 32 17 37 27 22 38 22 15 28 31 18 16 39 34 29 19 27 25 35 19 20 25\n",
      " 15 17 17 24 39 30 25 33 29 37 25 35 36 37 31 30 23 21 16 33 18 31 39 22\n",
      " 35 20 29 27 28 26 25 35 32 23 19 22 15 34 26 29 16 29 23 21 18 25 33 21\n",
      " 17 21 22 19 17 22 19 32 22 35 18 32 37 27 36 25 20 31 22 16 29 27 20 39\n",
      " 17 30 33 18]\n"
     ]
    }
   ],
   "source": [
    "import matplotlib.pyplot as plt\n",
    "import numpy as np\n",
    "\n",
    "\n",
    "student1_age=np.random.randint(18,45 , (100))\n",
    "student2_age=np.random.randint(15,40 , (100))\n",
    "\n",
    "print(student1_age)\n",
    "print(student2_age)"
   ]
  },
  {
   "cell_type": "code",
   "execution_count": 2,
   "id": "d20c36bf",
   "metadata": {},
   "outputs": [
    {
     "data": {
      "text/plain": [
       "(array([ 9.,  9., 11., 13.,  5., 11., 13.,  9., 11.,  9.]),\n",
       " array([18. , 20.6, 23.2, 25.8, 28.4, 31. , 33.6, 36.2, 38.8, 41.4, 44. ]),\n",
       " <BarContainer object of 10 artists>)"
      ]
     },
     "execution_count": 2,
     "metadata": {},
     "output_type": "execute_result"
    },
    {
     "data": {
      "image/png": "[encoded data removed]",
      "text/plain": [
       "<Figure size 432x288 with 1 Axes>"
      ]
     },
     "metadata": {
      "needs_background": "light"
     },
     "output_type": "display_data"
    }
   ],
   "source": [
    "\n",
    "plt.hist(student1_age)"
   ]
  },
  {
   "cell_type": "markdown",
   "id": "e1638aa9",
   "metadata": {},
   "source": [
    "### we will see sum histogram arguments\n"
   ]
  },
  {
   "cell_type": "markdown",
   "id": "70e707e9",
   "metadata": {},
   "source": [
    "plt.hist(\n",
    "    x,\n",
    "    bins=None,\n",
    "    range=None,\n",
    "    density=False,\n",
    "    weights=None,\n",
    "    cumulative=False,\n",
    "    bottom=None,\n",
    "    histtype='bar',\n",
    "    align='mid',\n",
    "    orientation='vertical',\n",
    "    rwidth=None,\n",
    "    log=False,\n",
    "    color=None,\n",
    "    label=None,\n",
    "    stacked=False,\n",
    "    *,\n",
    "    data=None,\n",
    "    **kwargs,\n",
    ")"
   ]
  },
  {
   "cell_type": "code",
   "execution_count": 3,
   "id": "6db9e148",
   "metadata": {},
   "outputs": [
    {
     "data": {
      "text/plain": [
       "(array([ 6., 21., 18., 16., 23., 16.]),\n",
       " array([15, 20, 25, 30, 35, 40, 45]),\n",
       " <BarContainer object of 6 artists>)"
      ]
     },
     "execution_count": 3,
     "metadata": {},
     "output_type": "execute_result"
    },
    {
     "data": {
      "image/png": "[encoded data removed]",
      "text/plain": [
       "<Figure size 432x288 with 1 Axes>"
      ]
     },
     "metadata": {
      "needs_background": "light"
     },
     "output_type": "display_data"
    }
   ],
   "source": [
    "plt.hist(student1_age , bins=[15,20,25,30,35,40,45] ,rwidth=0.95)"
   ]
  },
  {
   "cell_type": "code",
   "execution_count": 4,
   "id": "b0e9044f",
   "metadata": {},
   "outputs": [
    {
     "data": {
      "text/plain": [
       "(array([ 6., 21., 18., 16., 23., 16.]),\n",
       " array([15, 20, 25, 30, 35, 40, 45]),\n",
       " <BarContainer object of 6 artists>)"
      ]
     },
     "execution_count": 4,
     "metadata": {},
     "output_type": "execute_result"
    },
    {
     "data": {
      "image/png": "[encoded data removed]",
      "text/plain": [
       "<Figure size 432x288 with 1 Axes>"
      ]
     },
     "metadata": {
      "needs_background": "light"
     },
     "output_type": "display_data"
    }
   ],
   "source": [
    "plt.hist(student1_age , bins=[15,20,25,30,35,40,45] ,rwidth=0.95 ,color=\"g\")"
   ]
  },
  {
   "cell_type": "code",
   "execution_count": 5,
   "id": "5e1adfaa",
   "metadata": {},
   "outputs": [
    {
     "data": {
      "text/plain": [
       "(array([23., 20., 23., 18., 16.,  0.]),\n",
       " array([15, 20, 25, 30, 35, 40, 45]),\n",
       " <BarContainer object of 6 artists>)"
      ]
     },
     "execution_count": 5,
     "metadata": {},
     "output_type": "execute_result"
    },
    {
     "data": {
      "image/png": "[encoded data removed]",
      "text/plain": [
       "<Figure size 432x288 with 1 Axes>"
      ]
     },
     "metadata": {
      "needs_background": "light"
     },
     "output_type": "display_data"
    }
   ],
   "source": [
    "plt.hist(student1_age , bins=[15,20,25,30,35,40,45] ,rwidth=0.95 ,color=\"g\")\n",
    "plt.hist(student2_age , bins=[15,20,25,30,35,40,45] ,rwidth=0.95 ,color=\"y\")"
   ]
  },
  {
   "cell_type": "code",
   "execution_count": 6,
   "id": "43eb8540",
   "metadata": {},
   "outputs": [
    {
     "data": {
      "text/plain": [
       "(array([[ 6., 21., 18., 16., 23., 16.],\n",
       "        [23., 20., 23., 18., 16.,  0.]]),\n",
       " array([15, 20, 25, 30, 35, 40, 45]),\n",
       " <a list of 2 BarContainer objects>)"
      ]
     },
     "execution_count": 6,
     "metadata": {},
     "output_type": "execute_result"
    },
    {
     "data": {
      "image/png": "[encoded data removed]",
      "text/plain": [
       "<Figure size 432x288 with 1 Axes>"
      ]
     },
     "metadata": {
      "needs_background": "light"
     },
     "output_type": "display_data"
    }
   ],
   "source": [
    "# plt.hist(student1_age , bins=[15,20,25,30,35,40,45] ,rwidth=0.95 ,color=\"g\")\n",
    "# plt.hist(student2_age , bins=[15,20,25,30,35,40,45] ,rwidth=0.95 ,color=\"y\")\n",
    "\n",
    "# we will plot this in single line\n",
    "plt.hist([student1_age,student2_age] , bins=[15,20,25,30,35,40,45] ,rwidth=0.95 ,color=[\"g\",\"y\"])\n"
   ]
  },
  {
   "cell_type": "code",
   "execution_count": 7,
   "id": "dd6b60ad",
   "metadata": {},
   "outputs": [
    {
     "data": {
      "image/png": "[encoded data removed]",
      "text/plain": [
       "<Figure size 432x288 with 1 Axes>"
      ]
     },
     "metadata": {
      "needs_background": "light"
     },
     "output_type": "display_data"
    }
   ],
   "source": [
    "plt.title(\"Students Age Data\")\n",
    "plt.xlabel(\"Students age\" ,fontsize=15)\n",
    "plt.ylabel(\"No of Students\",fontsize=15)\n",
    "plt.hist([student1_age,student2_age] , bins=[15,20,25,30,35,40,45] ,rwidth=0.95 ,color=[\"g\",\"y\"] , label=[\"student1_age\",\"student2_age\"])\n",
    "\n",
    "\n",
    "plt.legend(shadow=True)\n",
    "plt.show()"
   ]
  },
  {
   "cell_type": "code",
   "execution_count": 8,
   "id": "4c7926d5",
   "metadata": {},
   "outputs": [
    {
     "data": {
      "image/png": "[encoded data removed]",
      "text/plain": [
       "<Figure size 1152x648 with 1 Axes>"
      ]
     },
     "metadata": {
      "needs_background": "light"
     },
     "output_type": "display_data"
    }
   ],
   "source": [
    "plt.figure(figsize=(16,9)) #to increase the image size\n",
    "plt.title(\"Students Age Data\")\n",
    "plt.xlabel(\"Students age\" ,fontsize=15)\n",
    "plt.ylabel(\"No of Students\",fontsize=15)\n",
    "plt.hist([student1_age,student2_age] , bins=[15,20,25,30,35,40,45] ,rwidth=0.95 ,color=[\"g\",\"y\"] , label=[\"student1_age\",\"student2_age\"])\n",
    "\n",
    "\n",
    "plt.legend(shadow=True)\n",
    "plt.show()"
   ]
  }
 ],
 "metadata": {
  "kernelspec": {
   "display_name": "Python 3",
   "language": "python",
   "name": "python3"
  },
  "language_info": {
   "codemirror_mode": {
    "name": "ipython",
    "version": 3
   },
   "file_extension": ".py",
   "mimetype": "text/x-python",
   "name": "python",
   "nbconvert_exporter": "python",
   "pygments_lexer": "ipython3",
   "version": "3.9.2"
  }
 },
 "nbformat": 4,
 "nbformat_minor": 5
}
